{
 "cells": [
  {
   "cell_type": "markdown",
   "metadata": {},
   "source": [
    "# Amazon Food Review Analysis\n",
    "\n",
    "### By: Greg Araya"
   ]
  },
  {
   "cell_type": "markdown",
   "metadata": {},
   "source": [
    "For my third capstone, I wanted to explore sentiment analysis with data related to food. Crawling around the internet, I found this data set that has over 500K reviews on Amazon for some of their foods products. To take a look at the kaggle page follow this link: [\"Amazon Fine Food Reviews\"](https://www.kaggle.com/snap/amazon-fine-food-reviews)\n",
    "\n",
    "This data was originally taken from this paper [From amateurs to connoisseurs: modeling the evolution of user expertise through online reviews](http://i.stanford.edu/~julian/pdfs/www13.pdf) written by J. McAuley and J. Leskovec, and includes:\n",
    "- Reviews spanning about 13 years\n",
    "- 568,454 total reviews\n",
    "- 256,059 users\n",
    "- 74,258 products\n",
    "- 260 users with > 50 reviews\n",
    "\n",
    "\n",
    "Using this data set I want to answer the following question: What are the most influential words in a review that predict whether it is positive or negative?\n",
    "\n",
    "I plan to answer this question by using three models: Naive Bayes, Support Vector Classification, and Random Forests. Let's begin by importing in all the modules we're going to need."
   ]
  },
  {
   "cell_type": "code",
   "execution_count": 62,
   "metadata": {},
   "outputs": [],
   "source": [
    "# We can start importing everything we're going to need\n",
    "import sqlite3\n",
    "import pandas as pd\n",
    "import numpy as np\n",
    "import matplotlib.pyplot as plt\n",
    "import re\n",
    "import time\n",
    "\n",
    "# Natural language processing modules\n",
    "from nltk.corpus import stopwords\n",
    "from nltk.stem import SnowballStemmer\n",
    "\n",
    "# Tools from scikit learn we can use on the models\n",
    "from sklearn.model_selection import train_test_split\n",
    "from sklearn.feature_extraction.text import TfidfVectorizer\n",
    "from sklearn.feature_selection import SelectKBest, chi2\n",
    "from sklearn.pipeline import Pipeline\n",
    "from sklearn.metrics import classification_report\n",
    "from sklearn.model_selection import RandomizedSearchCV\n",
    "\n",
    "# Naive Bayes modules\n",
    "from sklearn.naive_bayes import BernoulliNB\n",
    "from sklearn.model_selection import cross_val_score\n",
    "\n",
    "# Support Vector Classification\n",
    "from sklearn.svm import LinearSVC\n",
    "\n",
    "# Random Forest modules\n",
    "from sklearn import tree\n",
    "from sklearn import ensemble\n",
    "\n",
    "# wordcloud module to make figures for a presentation\n",
    "from wordcloud import WordCloud"
   ]
  },
  {
   "cell_type": "markdown",
   "metadata": {},
   "source": [
    "First we'll query the sqlite server and get our data set into one main dataframe."
   ]
  },
  {
   "cell_type": "code",
   "execution_count": 63,
   "metadata": {},
   "outputs": [],
   "source": [
    "# Create a connection\n",
    "conn = sqlite3.connect('database.sqlite')\n",
    "\n",
    "# Create a cursor object that allows us to execute SQL queries on the database\n",
    "curs = conn.cursor()\n",
    "\n",
    "# Query the database\n",
    "curs.execute('SELECT * FROM Reviews')\n",
    "\n",
    "# Use the fetchall method to get all the results, and pandas to send it to a DataFrame for analysis\n",
    "raw_data = pd.DataFrame(curs.fetchall())\n",
    "\n",
    "# Assign our columns\n",
    "raw_data.columns = ['Id', 'ProductId', 'UserId', 'ProfileName', 'HelpfulnessNumerator', 'HelpfulnessDenominator', \n",
    "                   'Score', 'Time', 'Summary', 'Text']\n",
    "\n",
    "# Close the connection and cursor objects\n",
    "curs.close()\n",
    "conn.close()"
   ]
  },
  {
   "cell_type": "markdown",
   "metadata": {},
   "source": [
    "Let's take a look at the data we pulled out."
   ]
  },
  {
   "cell_type": "code",
   "execution_count": 64,
   "metadata": {
    "scrolled": false
   },
   "outputs": [
    {
     "data": {
      "text/html": [
       "<div>\n",
       "<style scoped>\n",
       "    .dataframe tbody tr th:only-of-type {\n",
       "        vertical-align: middle;\n",
       "    }\n",
       "\n",
       "    .dataframe tbody tr th {\n",
       "        vertical-align: top;\n",
       "    }\n",
       "\n",
       "    .dataframe thead th {\n",
       "        text-align: right;\n",
       "    }\n",
       "</style>\n",
       "<table border=\"1\" class=\"dataframe\">\n",
       "  <thead>\n",
       "    <tr style=\"text-align: right;\">\n",
       "      <th></th>\n",
       "      <th>Id</th>\n",
       "      <th>ProductId</th>\n",
       "      <th>UserId</th>\n",
       "      <th>ProfileName</th>\n",
       "      <th>HelpfulnessNumerator</th>\n",
       "      <th>HelpfulnessDenominator</th>\n",
       "      <th>Score</th>\n",
       "      <th>Time</th>\n",
       "      <th>Summary</th>\n",
       "      <th>Text</th>\n",
       "    </tr>\n",
       "  </thead>\n",
       "  <tbody>\n",
       "    <tr>\n",
       "      <th>0</th>\n",
       "      <td>1</td>\n",
       "      <td>B001E4KFG0</td>\n",
       "      <td>A3SGXH7AUHU8GW</td>\n",
       "      <td>delmartian</td>\n",
       "      <td>1</td>\n",
       "      <td>1</td>\n",
       "      <td>5</td>\n",
       "      <td>1303862400</td>\n",
       "      <td>Good Quality Dog Food</td>\n",
       "      <td>I have bought several of the Vitality canned d...</td>\n",
       "    </tr>\n",
       "    <tr>\n",
       "      <th>1</th>\n",
       "      <td>2</td>\n",
       "      <td>B00813GRG4</td>\n",
       "      <td>A1D87F6ZCVE5NK</td>\n",
       "      <td>dll pa</td>\n",
       "      <td>0</td>\n",
       "      <td>0</td>\n",
       "      <td>1</td>\n",
       "      <td>1346976000</td>\n",
       "      <td>Not as Advertised</td>\n",
       "      <td>Product arrived labeled as Jumbo Salted Peanut...</td>\n",
       "    </tr>\n",
       "    <tr>\n",
       "      <th>2</th>\n",
       "      <td>3</td>\n",
       "      <td>B000LQOCH0</td>\n",
       "      <td>ABXLMWJIXXAIN</td>\n",
       "      <td>Natalia Corres \"Natalia Corres\"</td>\n",
       "      <td>1</td>\n",
       "      <td>1</td>\n",
       "      <td>4</td>\n",
       "      <td>1219017600</td>\n",
       "      <td>\"Delight\" says it all</td>\n",
       "      <td>This is a confection that has been around a fe...</td>\n",
       "    </tr>\n",
       "    <tr>\n",
       "      <th>3</th>\n",
       "      <td>4</td>\n",
       "      <td>B000UA0QIQ</td>\n",
       "      <td>A395BORC6FGVXV</td>\n",
       "      <td>Karl</td>\n",
       "      <td>3</td>\n",
       "      <td>3</td>\n",
       "      <td>2</td>\n",
       "      <td>1307923200</td>\n",
       "      <td>Cough Medicine</td>\n",
       "      <td>If you are looking for the secret ingredient i...</td>\n",
       "    </tr>\n",
       "    <tr>\n",
       "      <th>4</th>\n",
       "      <td>5</td>\n",
       "      <td>B006K2ZZ7K</td>\n",
       "      <td>A1UQRSCLF8GW1T</td>\n",
       "      <td>Michael D. Bigham \"M. Wassir\"</td>\n",
       "      <td>0</td>\n",
       "      <td>0</td>\n",
       "      <td>5</td>\n",
       "      <td>1350777600</td>\n",
       "      <td>Great taffy</td>\n",
       "      <td>Great taffy at a great price.  There was a wid...</td>\n",
       "    </tr>\n",
       "  </tbody>\n",
       "</table>\n",
       "</div>"
      ],
      "text/plain": [
       "   Id   ProductId          UserId                      ProfileName  \\\n",
       "0   1  B001E4KFG0  A3SGXH7AUHU8GW                       delmartian   \n",
       "1   2  B00813GRG4  A1D87F6ZCVE5NK                           dll pa   \n",
       "2   3  B000LQOCH0   ABXLMWJIXXAIN  Natalia Corres \"Natalia Corres\"   \n",
       "3   4  B000UA0QIQ  A395BORC6FGVXV                             Karl   \n",
       "4   5  B006K2ZZ7K  A1UQRSCLF8GW1T    Michael D. Bigham \"M. Wassir\"   \n",
       "\n",
       "   HelpfulnessNumerator  HelpfulnessDenominator  Score        Time  \\\n",
       "0                     1                       1      5  1303862400   \n",
       "1                     0                       0      1  1346976000   \n",
       "2                     1                       1      4  1219017600   \n",
       "3                     3                       3      2  1307923200   \n",
       "4                     0                       0      5  1350777600   \n",
       "\n",
       "                 Summary                                               Text  \n",
       "0  Good Quality Dog Food  I have bought several of the Vitality canned d...  \n",
       "1      Not as Advertised  Product arrived labeled as Jumbo Salted Peanut...  \n",
       "2  \"Delight\" says it all  This is a confection that has been around a fe...  \n",
       "3         Cough Medicine  If you are looking for the secret ingredient i...  \n",
       "4            Great taffy  Great taffy at a great price.  There was a wid...  "
      ]
     },
     "execution_count": 64,
     "metadata": {},
     "output_type": "execute_result"
    }
   ],
   "source": [
    "raw_data.head()"
   ]
  },
  {
   "cell_type": "markdown",
   "metadata": {},
   "source": [
    "For this project I'd like to focus on the text used in the full comments, the overall score given, and the helpfulness scores, so I'm going to make a copy of this dataframe that only includes the columns that I'm interested in."
   ]
  },
  {
   "cell_type": "code",
   "execution_count": 65,
   "metadata": {},
   "outputs": [
    {
     "data": {
      "text/html": [
       "<div>\n",
       "<style scoped>\n",
       "    .dataframe tbody tr th:only-of-type {\n",
       "        vertical-align: middle;\n",
       "    }\n",
       "\n",
       "    .dataframe tbody tr th {\n",
       "        vertical-align: top;\n",
       "    }\n",
       "\n",
       "    .dataframe thead th {\n",
       "        text-align: right;\n",
       "    }\n",
       "</style>\n",
       "<table border=\"1\" class=\"dataframe\">\n",
       "  <thead>\n",
       "    <tr style=\"text-align: right;\">\n",
       "      <th></th>\n",
       "      <th>Score</th>\n",
       "      <th>HelpfulnessNumerator</th>\n",
       "      <th>HelpfulnessDenominator</th>\n",
       "      <th>Text</th>\n",
       "    </tr>\n",
       "  </thead>\n",
       "  <tbody>\n",
       "    <tr>\n",
       "      <th>0</th>\n",
       "      <td>5</td>\n",
       "      <td>1</td>\n",
       "      <td>1</td>\n",
       "      <td>I have bought several of the Vitality canned d...</td>\n",
       "    </tr>\n",
       "    <tr>\n",
       "      <th>1</th>\n",
       "      <td>1</td>\n",
       "      <td>0</td>\n",
       "      <td>0</td>\n",
       "      <td>Product arrived labeled as Jumbo Salted Peanut...</td>\n",
       "    </tr>\n",
       "    <tr>\n",
       "      <th>2</th>\n",
       "      <td>4</td>\n",
       "      <td>1</td>\n",
       "      <td>1</td>\n",
       "      <td>This is a confection that has been around a fe...</td>\n",
       "    </tr>\n",
       "    <tr>\n",
       "      <th>3</th>\n",
       "      <td>2</td>\n",
       "      <td>3</td>\n",
       "      <td>3</td>\n",
       "      <td>If you are looking for the secret ingredient i...</td>\n",
       "    </tr>\n",
       "    <tr>\n",
       "      <th>4</th>\n",
       "      <td>5</td>\n",
       "      <td>0</td>\n",
       "      <td>0</td>\n",
       "      <td>Great taffy at a great price.  There was a wid...</td>\n",
       "    </tr>\n",
       "  </tbody>\n",
       "</table>\n",
       "</div>"
      ],
      "text/plain": [
       "   Score  HelpfulnessNumerator  HelpfulnessDenominator  \\\n",
       "0      5                     1                       1   \n",
       "1      1                     0                       0   \n",
       "2      4                     1                       1   \n",
       "3      2                     3                       3   \n",
       "4      5                     0                       0   \n",
       "\n",
       "                                                Text  \n",
       "0  I have bought several of the Vitality canned d...  \n",
       "1  Product arrived labeled as Jumbo Salted Peanut...  \n",
       "2  This is a confection that has been around a fe...  \n",
       "3  If you are looking for the secret ingredient i...  \n",
       "4  Great taffy at a great price.  There was a wid...  "
      ]
     },
     "execution_count": 65,
     "metadata": {},
     "output_type": "execute_result"
    }
   ],
   "source": [
    "# Make a copy and display it\n",
    "main_df = raw_data[['Score', 'HelpfulnessNumerator', 'HelpfulnessDenominator', 'Text']].copy()\n",
    "\n",
    "main_df.head()"
   ]
  },
  {
   "cell_type": "markdown",
   "metadata": {},
   "source": [
    "Now let's check and make sure we don't have any missing values that require our attention."
   ]
  },
  {
   "cell_type": "code",
   "execution_count": 66,
   "metadata": {},
   "outputs": [
    {
     "name": "stdout",
     "output_type": "stream",
     "text": [
      "<class 'pandas.core.frame.DataFrame'>\n",
      "RangeIndex: 568454 entries, 0 to 568453\n",
      "Data columns (total 4 columns):\n",
      "Score                     568454 non-null int64\n",
      "HelpfulnessNumerator      568454 non-null int64\n",
      "HelpfulnessDenominator    568454 non-null int64\n",
      "Text                      568454 non-null object\n",
      "dtypes: int64(3), object(1)\n",
      "memory usage: 17.3+ MB\n"
     ]
    }
   ],
   "source": [
    "main_df.info()"
   ]
  },
  {
   "cell_type": "markdown",
   "metadata": {},
   "source": [
    "Looks like all of our columns are filled out completely, and their data types make sense for what each column should contain. Let's move on with some visuals for the numerator columns and make sure there aren't other issues we might need to take care of, or at least be aware of."
   ]
  },
  {
   "cell_type": "code",
   "execution_count": 67,
   "metadata": {},
   "outputs": [
    {
     "data": {
      "image/png": "[encoded data removed]",
      "text/plain": [
       "<Figure size 432x288 with 1 Axes>"
      ]
     },
     "metadata": {
      "needs_background": "light"
     },
     "output_type": "display_data"
    },
    {
     "name": "stdout",
     "output_type": "stream",
     "text": [
      "1     52268\n",
      "2     29769\n",
      "3     42640\n",
      "4     80655\n",
      "5    363122\n",
      "Name: Score, dtype: int64\n"
     ]
    }
   ],
   "source": [
    "# Plot the number of times each score is found and print out the raw numbers\n",
    "plt.bar(np.sort(main_df['Score'].unique()), main_df['Score'].value_counts(sort=False))\n",
    "plt.show()\n",
    "print(main_df['Score'].value_counts(sort=False))"
   ]
  },
  {
   "cell_type": "markdown",
   "metadata": {},
   "source": [
    "Wow, apparently there are way more 5 star reviews than any other type of review (4.5 times as many as the next highest level in fact), so this is worth noting for our testing so that we can avoid skewing our models. Maybe we should get rid of scores that people have voted as \"unhelpful\". We can do this by creating a new column that calculates the percent of people who found the review to be helpful by dividing the \"Helpfulness Numerator\" by the \"Helpfulness Denominator\". This could potentially get rid of any fake reviews, or possibly help us find some errors."
   ]
  },
  {
   "cell_type": "code",
   "execution_count": 68,
   "metadata": {},
   "outputs": [
    {
     "data": {
      "text/plain": [
       "count    568454.000000\n",
       "mean          0.407862\n",
       "std           0.462068\n",
       "min           0.000000\n",
       "25%           0.000000\n",
       "50%           0.000000\n",
       "75%           1.000000\n",
       "max           3.000000\n",
       "Name: HelpPct, dtype: float64"
      ]
     },
     "execution_count": 68,
     "metadata": {},
     "output_type": "execute_result"
    }
   ],
   "source": [
    "# Create our new column for Helpfulness Percent\n",
    "main_df['HelpPct'] = main_df['HelpfulnessNumerator'] / main_df['HelpfulnessDenominator']\n",
    "\n",
    "# Since any reviews that have no helpfulness ratings will produce a NaN, fill these in with zero\n",
    "main_df.fillna(value=0, inplace=True)\n",
    "\n",
    "# Change this column to numeric instead of a string\n",
    "main_df['HelpPct'] = pd.to_numeric(main_df['HelpPct'])\n",
    "\n",
    "# Then print out some descriptive statistics\n",
    "main_df['HelpPct'].describe()"
   ]
  },
  {
   "cell_type": "markdown",
   "metadata": {},
   "source": [
    "Well that's strange, we got a max of 3 but we shouldn't have any percentages above a 1. How many of these reviews are there exactly? Let's see."
   ]
  },
  {
   "cell_type": "code",
   "execution_count": 69,
   "metadata": {},
   "outputs": [
    {
     "data": {
      "text/html": [
       "<div>\n",
       "<style scoped>\n",
       "    .dataframe tbody tr th:only-of-type {\n",
       "        vertical-align: middle;\n",
       "    }\n",
       "\n",
       "    .dataframe tbody tr th {\n",
       "        vertical-align: top;\n",
       "    }\n",
       "\n",
       "    .dataframe thead th {\n",
       "        text-align: right;\n",
       "    }\n",
       "</style>\n",
       "<table border=\"1\" class=\"dataframe\">\n",
       "  <thead>\n",
       "    <tr style=\"text-align: right;\">\n",
       "      <th></th>\n",
       "      <th>Score</th>\n",
       "      <th>HelpfulnessNumerator</th>\n",
       "      <th>HelpfulnessDenominator</th>\n",
       "      <th>Text</th>\n",
       "      <th>HelpPct</th>\n",
       "    </tr>\n",
       "  </thead>\n",
       "  <tbody>\n",
       "    <tr>\n",
       "      <th>44736</th>\n",
       "      <td>4</td>\n",
       "      <td>3</td>\n",
       "      <td>2</td>\n",
       "      <td>It was almost a 'love at first bite' - the per...</td>\n",
       "      <td>1.5</td>\n",
       "    </tr>\n",
       "    <tr>\n",
       "      <th>64421</th>\n",
       "      <td>5</td>\n",
       "      <td>3</td>\n",
       "      <td>1</td>\n",
       "      <td>My son loves spaghetti so I didn't hesitate or...</td>\n",
       "      <td>3.0</td>\n",
       "    </tr>\n",
       "  </tbody>\n",
       "</table>\n",
       "</div>"
      ],
      "text/plain": [
       "       Score  HelpfulnessNumerator  HelpfulnessDenominator  \\\n",
       "44736      4                     3                       2   \n",
       "64421      5                     3                       1   \n",
       "\n",
       "                                                    Text  HelpPct  \n",
       "44736  It was almost a 'love at first bite' - the per...      1.5  \n",
       "64421  My son loves spaghetti so I didn't hesitate or...      3.0  "
      ]
     },
     "execution_count": 69,
     "metadata": {},
     "output_type": "execute_result"
    }
   ],
   "source": [
    "# Print out reviews with > 100% helpfulness percentage\n",
    "main_df[main_df['HelpPct'] > 1].head()"
   ]
  },
  {
   "cell_type": "markdown",
   "metadata": {},
   "source": [
    "Since there are only two of them, and they're both for scores in our biggest categories, we can easily drop these without losing much value."
   ]
  },
  {
   "cell_type": "code",
   "execution_count": 70,
   "metadata": {},
   "outputs": [],
   "source": [
    "# Drop these rows\n",
    "main_df = main_df.drop(44736)\n",
    "main_df = main_df.drop(64421)"
   ]
  },
  {
   "cell_type": "markdown",
   "metadata": {},
   "source": [
    "Now let's see how many reviews got a helpfulness score of more than 50%, i.e. more people found it useful than not."
   ]
  },
  {
   "cell_type": "code",
   "execution_count": 71,
   "metadata": {
    "scrolled": true
   },
   "outputs": [
    {
     "name": "stdout",
     "output_type": "stream",
     "text": [
      "There are 226664 rows that match this requirement\n"
     ]
    }
   ],
   "source": [
    "# Print out the # of reviews with > 50% helpfulness percentage\n",
    "print('There are {} rows that match this requirement'.format(main_df[main_df['HelpPct'] > 0.5].shape[0]))"
   ]
  },
  {
   "cell_type": "markdown",
   "metadata": {},
   "source": [
    "Considering we still have over 226K reviews that got a helpfulness score of 50% or more, I think it's safe to base our models off of this data to avoid anything unhelpful and/or potentially fake."
   ]
  },
  {
   "cell_type": "code",
   "execution_count": 72,
   "metadata": {},
   "outputs": [],
   "source": [
    "# Only accept reviews with > 50% helpfulness\n",
    "main_df = main_df[main_df['HelpPct'] > 0.5]"
   ]
  },
  {
   "cell_type": "markdown",
   "metadata": {},
   "source": [
    "Now that our data is cleaned up a bit, let's create our categorical column that states if the review is positive or negative. I'm going to determine that a \"good\" review is one where the product gets 4 or more stars, since these are our two biggest categories, so for something to get 3 stars or lower, that seems like a decent drop in quality."
   ]
  },
  {
   "cell_type": "code",
   "execution_count": 73,
   "metadata": {},
   "outputs": [],
   "source": [
    "# Assign the sentiments to our new column according to our established rule\n",
    "main_df.loc[main_df.Score < 4, 'Sentiment'] = 'Negative'\n",
    "\n",
    "main_df.loc[main_df.Score >= 4, 'Sentiment'] = 'Positive'"
   ]
  },
  {
   "cell_type": "markdown",
   "metadata": {},
   "source": [
    "Following this, let's get a count of how many values we get for each sentiment."
   ]
  },
  {
   "cell_type": "code",
   "execution_count": 74,
   "metadata": {},
   "outputs": [
    {
     "data": {
      "text/plain": [
       "Positive    182590\n",
       "Negative     44074\n",
       "Name: Sentiment, dtype: int64"
      ]
     },
     "execution_count": 74,
     "metadata": {},
     "output_type": "execute_result"
    }
   ],
   "source": [
    "main_df['Sentiment'].value_counts()"
   ]
  },
  {
   "cell_type": "markdown",
   "metadata": {},
   "source": [
    "Since we want a model that can make accurate predictions, we shouldn't feed it the dataframe as is. Since there is such a huge proportion of positive reviews, anybody could simply guess that the review is positive and be right about 80% of the time. This would look great to us initially, but would eventually produce bad results. So, let's take a subset of each sentiment such that we have the same number of each type. Let's say 44,000 for now. While we're at it, let's also sort by the reviews that have the highest helpfulness percent too."
   ]
  },
  {
   "cell_type": "code",
   "execution_count": 75,
   "metadata": {
    "scrolled": true
   },
   "outputs": [
    {
     "data": {
      "text/plain": [
       "Positive    44000\n",
       "Negative    44000\n",
       "Name: Sentiment, dtype: int64"
      ]
     },
     "execution_count": 75,
     "metadata": {},
     "output_type": "execute_result"
    }
   ],
   "source": [
    "# Sort by helpfulness percent, group by the score, and take the top 44,000\n",
    "main_df_subset = main_df.sort_values('HelpPct', ascending=False).groupby('Sentiment').head(44_000)\n",
    "\n",
    "# Then let's make sure we actually got the numbers we want as well\n",
    "main_df_subset['Sentiment'].value_counts()"
   ]
  },
  {
   "cell_type": "markdown",
   "metadata": {},
   "source": [
    "### Now this is where the fun begins, language processing."
   ]
  },
  {
   "cell_type": "markdown",
   "metadata": {},
   "source": [
    "Before I can create and test models, I need to clean up the text in the reviews just a bit more."
   ]
  },
  {
   "cell_type": "code",
   "execution_count": 76,
   "metadata": {},
   "outputs": [],
   "source": [
    "# Create a list of stop words, i.e. words that aren't useful, such as \"and\", \"the\", etc\n",
    "s_words = stopwords.words(\"english\")\n",
    "\n",
    "# Next make a copy of our main dataframe so that we can play around with it without losing anything,\n",
    "# in case we want or need it later. We only need the sentiments and review text anyways\n",
    "procs_df = main_df_subset[['Sentiment', 'Text']].copy()"
   ]
  },
  {
   "cell_type": "markdown",
   "metadata": {},
   "source": [
    "The code below creates a new column of \"cleaned\" reviews. It is applying a lambda function on each row. For each word in the row, we get rid of anything that isn't a-z or A-Z and substitute it with a space. Then, we split it up, get rid of words that aren't stop words, lowercase everything and join it back together."
   ]
  },
  {
   "cell_type": "code",
   "execution_count": 77,
   "metadata": {},
   "outputs": [],
   "source": [
    "# Create out cleaned column\n",
    "procs_df['cleaned'] = procs_df['Text'].apply(lambda x: \" \".join(\n",
    "                                            w for w in re.sub(\"[^a-zA-Z]\", \" \", x).split() if w not in s_words).lower())"
   ]
  },
  {
   "cell_type": "markdown",
   "metadata": {},
   "source": [
    "Now we can make our models and try to predict if the review is positive or negative. Since there are so many 4 and 5 star reviews, I'm going to choose a rating of 4 or more as my rule for determining something as \"positive\". Then I will test out three models: Naive Bayes, Support Vector Classification, and a Random Forest. Below I'll print out a slice of what the data looks like so far as well."
   ]
  },
  {
   "cell_type": "code",
   "execution_count": 78,
   "metadata": {},
   "outputs": [
    {
     "data": {
      "text/html": [
       "<div>\n",
       "<style scoped>\n",
       "    .dataframe tbody tr th:only-of-type {\n",
       "        vertical-align: middle;\n",
       "    }\n",
       "\n",
       "    .dataframe tbody tr th {\n",
       "        vertical-align: top;\n",
       "    }\n",
       "\n",
       "    .dataframe thead th {\n",
       "        text-align: right;\n",
       "    }\n",
       "</style>\n",
       "<table border=\"1\" class=\"dataframe\">\n",
       "  <thead>\n",
       "    <tr style=\"text-align: right;\">\n",
       "      <th></th>\n",
       "      <th>Sentiment</th>\n",
       "      <th>Text</th>\n",
       "      <th>cleaned</th>\n",
       "    </tr>\n",
       "  </thead>\n",
       "  <tbody>\n",
       "    <tr>\n",
       "      <th>0</th>\n",
       "      <td>Positive</td>\n",
       "      <td>I have bought several of the Vitality canned d...</td>\n",
       "      <td>i bought several vitality canned dog food prod...</td>\n",
       "    </tr>\n",
       "    <tr>\n",
       "      <th>359038</th>\n",
       "      <td>Positive</td>\n",
       "      <td>I received my case of Zico Coconut Water withi...</td>\n",
       "      <td>i received case zico coconut water within two ...</td>\n",
       "    </tr>\n",
       "    <tr>\n",
       "      <th>359040</th>\n",
       "      <td>Negative</td>\n",
       "      <td>I bought two cases of ZICO in the plastic bott...</td>\n",
       "      <td>i bought two cases zico plastic bottles so gro...</td>\n",
       "    </tr>\n",
       "    <tr>\n",
       "      <th>359041</th>\n",
       "      <td>Negative</td>\n",
       "      <td>First sip had me feeling sick!  I'm not sure i...</td>\n",
       "      <td>first sip feeling sick i sure i like passion f...</td>\n",
       "    </tr>\n",
       "    <tr>\n",
       "      <th>359042</th>\n",
       "      <td>Negative</td>\n",
       "      <td>This is so gross.  Zico should be ashamed!&lt;br ...</td>\n",
       "      <td>this gross zico ashamed br br my reflex pulled...</td>\n",
       "    </tr>\n",
       "  </tbody>\n",
       "</table>\n",
       "</div>"
      ],
      "text/plain": [
       "       Sentiment                                               Text  \\\n",
       "0       Positive  I have bought several of the Vitality canned d...   \n",
       "359038  Positive  I received my case of Zico Coconut Water withi...   \n",
       "359040  Negative  I bought two cases of ZICO in the plastic bott...   \n",
       "359041  Negative  First sip had me feeling sick!  I'm not sure i...   \n",
       "359042  Negative  This is so gross.  Zico should be ashamed!<br ...   \n",
       "\n",
       "                                                  cleaned  \n",
       "0       i bought several vitality canned dog food prod...  \n",
       "359038  i received case zico coconut water within two ...  \n",
       "359040  i bought two cases zico plastic bottles so gro...  \n",
       "359041  first sip feeling sick i sure i like passion f...  \n",
       "359042  this gross zico ashamed br br my reflex pulled...  "
      ]
     },
     "execution_count": 78,
     "metadata": {},
     "output_type": "execute_result"
    }
   ],
   "source": [
    "procs_df.head()"
   ]
  },
  {
   "cell_type": "markdown",
   "metadata": {},
   "source": [
    "### Naive Bayes"
   ]
  },
  {
   "cell_type": "markdown",
   "metadata": {},
   "source": [
    "Let's start by finding our best parameters for a Naive Bayes model using cross validation, and then we can use those parameters on a split of training and testing data."
   ]
  },
  {
   "cell_type": "code",
   "execution_count": 79,
   "metadata": {},
   "outputs": [],
   "source": [
    "# Make a copy of the dataframe just for this model's testing so we can be sure its not affecting others\n",
    "nb_df = procs_df.copy()\n",
    "\n",
    "# Label our features and target\n",
    "X = nb_df['cleaned']\n",
    "Y = nb_df['Sentiment']"
   ]
  },
  {
   "cell_type": "code",
   "execution_count": 80,
   "metadata": {},
   "outputs": [],
   "source": [
    "# Specify the distribution of parameters that we want to test\n",
    "nb_prm_dist = dict(\n",
    "    chi__k = [i for i in np.arange(1_000, 4_100, 100)],\n",
    "    clf__alpha = [i for i in np.arange(0.1,1.1,0.1)], \n",
    "    clf__binarize = [i for i in np.arange(0.1,1.1,0.1)], \n",
    "    clf__fit_prior = [True, False]\n",
    "    )"
   ]
  },
  {
   "cell_type": "code",
   "execution_count": 81,
   "metadata": {},
   "outputs": [],
   "source": [
    "# Create a pipeline that will take us through the modeling process\n",
    "nb_base_pipeline = Pipeline([\n",
    "    # Use TfidfVectorizer and ngram_range = (1,2) to choose 1 and/or 2 words at a time\n",
    "    ('vect', TfidfVectorizer(ngram_range=(1, 2), stop_words='english', sublinear_tf=True)),\n",
    "    \n",
    "    # Select the best features to train from using the chi squared algorithm\n",
    "    ('chi', SelectKBest(chi2)),\n",
    "    \n",
    "    # Choose our classifier algorithm\n",
    "    ('clf', BernoulliNB())\n",
    "])"
   ]
  },
  {
   "cell_type": "code",
   "execution_count": 82,
   "metadata": {
    "scrolled": true
   },
   "outputs": [
    {
     "data": {
      "text/plain": [
       "RandomizedSearchCV(cv=10, error_score='raise-deprecating',\n",
       "                   estimator=Pipeline(memory=None,\n",
       "                                      steps=[('vect',\n",
       "                                              TfidfVectorizer(analyzer='word',\n",
       "                                                              binary=False,\n",
       "                                                              decode_error='strict',\n",
       "                                                              dtype=<class 'numpy.float64'>,\n",
       "                                                              encoding='utf-8',\n",
       "                                                              input='content',\n",
       "                                                              lowercase=True,\n",
       "                                                              max_df=1.0,\n",
       "                                                              max_features=None,\n",
       "                                                              min_df=1,\n",
       "                                                              ngram_range=(1,\n",
       "                                                                           2),\n",
       "                                                              norm='l2',\n",
       "                                                              preprocessor=None,\n",
       "                                                              smooth_idf=True,\n",
       "                                                              sto...\n",
       "                                                   3000, 3100, 3200, 3300, 3400,\n",
       "                                                   3500, 3600, 3700, 3800, 3900, ...],\n",
       "                                        'clf__alpha': [0.1, 0.2,\n",
       "                                                       0.30000000000000004, 0.4,\n",
       "                                                       0.5, 0.6,\n",
       "                                                       0.7000000000000001, 0.8,\n",
       "                                                       0.9, 1.0],\n",
       "                                        'clf__binarize': [0.1, 0.2,\n",
       "                                                          0.30000000000000004,\n",
       "                                                          0.4, 0.5, 0.6,\n",
       "                                                          0.7000000000000001,\n",
       "                                                          0.8, 0.9, 1.0],\n",
       "                                        'clf__fit_prior': [True, False]},\n",
       "                   pre_dispatch='2*n_jobs', random_state=None, refit=True,\n",
       "                   return_train_score=False, scoring=None, verbose=0)"
      ]
     },
     "execution_count": 82,
     "metadata": {},
     "output_type": "execute_result"
    }
   ],
   "source": [
    "# Start a timer for the NB's CV search\n",
    "nbcv_start_time = time.time()\n",
    "\n",
    "# Set up the random search with our parameter distribution\n",
    "nb_rand_search = RandomizedSearchCV(nb_base_pipeline, nb_prm_dist, n_iter=20, cv=10)\n",
    "\n",
    "# Fit the random search to our data\n",
    "nb_rand_search.fit(X, Y)"
   ]
  },
  {
   "cell_type": "markdown",
   "metadata": {},
   "source": [
    "With the cross validation completed, let's take a look at our best parameters."
   ]
  },
  {
   "cell_type": "code",
   "execution_count": 83,
   "metadata": {},
   "outputs": [
    {
     "name": "stdout",
     "output_type": "stream",
     "text": [
      "{'clf__fit_prior': True, 'clf__binarize': 0.1, 'clf__alpha': 0.7000000000000001, 'chi__k': 3600}\n",
      "The Naive Bayes' CV search took 3413.9193856716156 seconds\n"
     ]
    }
   ],
   "source": [
    "print(nb_rand_search.best_params_)\n",
    "print(\"The Naive Bayes' CV search took \" + str(time.time() - nbcv_start_time) + \" seconds\")"
   ]
  },
  {
   "cell_type": "markdown",
   "metadata": {},
   "source": [
    "Now that we have our best parameters, we can use these as assigned variables and plug them into an updated pipeline that will work on split sets of the data for training and testing."
   ]
  },
  {
   "cell_type": "code",
   "execution_count": 84,
   "metadata": {
    "scrolled": true
   },
   "outputs": [],
   "source": [
    "# Assign our best parameters to variables to use in an updated pipeline\n",
    "nb_k = nb_rand_search.best_params_['chi__k']\n",
    "nb_alpha = nb_rand_search.best_params_['clf__alpha']\n",
    "nb_fit_prior = nb_rand_search.best_params_['clf__fit_prior']\n",
    "nb_binarize = nb_rand_search.best_params_['clf__binarize']"
   ]
  },
  {
   "cell_type": "code",
   "execution_count": 85,
   "metadata": {},
   "outputs": [],
   "source": [
    "# Split up our training and testing data, 20/80\n",
    "X_train, X_test, y_train, y_test = train_test_split(nb_df['cleaned'], nb_df.Sentiment, test_size=0.2)\n",
    "\n",
    "# Create a pipeline that will take us through the modeling process using our new parameters\n",
    "nb_pipeline = Pipeline([\n",
    "    # Use TfidfVectorizer and ngram_range = (1,2) to choose 1 and/or 2 words at a time\n",
    "    ('vect', TfidfVectorizer(ngram_range=(1, 2), stop_words='english', sublinear_tf=True)),\n",
    "    \n",
    "    # Find the best features to train from using the chi squared algorithm\n",
    "    ('chi', SelectKBest(chi2, k = nb_k)),\n",
    "    \n",
    "    # Choose our classifier algorithm\n",
    "    ('clf', BernoulliNB(\n",
    "                        alpha = nb_alpha, \n",
    "                        binarize = nb_binarize,\n",
    "                        fit_prior = nb_fit_prior\n",
    "                        )\n",
    "    )\n",
    "])"
   ]
  },
  {
   "cell_type": "code",
   "execution_count": 86,
   "metadata": {},
   "outputs": [],
   "source": [
    "# Start a timer for the NB model\n",
    "nb_start_time = time.time()\n",
    "\n",
    "# Now we can fit our model to use for predictions\n",
    "nb_model = nb_pipeline.fit(X_train, y_train)"
   ]
  },
  {
   "cell_type": "code",
   "execution_count": 87,
   "metadata": {},
   "outputs": [
    {
     "name": "stdout",
     "output_type": "stream",
     "text": [
      "The Naive Bayes model's accuracy on the test set is: 0.7921022727272727\n",
      "The Naive Bayes model took 17.981623649597168 seconds\n"
     ]
    }
   ],
   "source": [
    "# See how our model performs\n",
    "print(\"The Naive Bayes model's accuracy on the test set is: \" + str(nb_model.score(X_test, y_test)))\n",
    "print(\"The Naive Bayes model took \" + str(time.time() - nb_start_time) + \" seconds\")"
   ]
  },
  {
   "cell_type": "code",
   "execution_count": 88,
   "metadata": {},
   "outputs": [
    {
     "name": "stdout",
     "output_type": "stream",
     "text": [
      "              precision    recall  f1-score   support\n",
      "\n",
      "    Negative       0.85      0.69      0.76     44000\n",
      "    Positive       0.74      0.88      0.80     44000\n",
      "\n",
      "    accuracy                           0.78     88000\n",
      "   macro avg       0.79      0.78      0.78     88000\n",
      "weighted avg       0.79      0.78      0.78     88000\n",
      "\n"
     ]
    }
   ],
   "source": [
    "y_nb_true = nb_df['Sentiment']\n",
    "y_nb_pred = nb_model.predict(nb_df['cleaned'])\n",
    "\n",
    "print(classification_report(y_nb_true, y_nb_pred))"
   ]
  },
  {
   "cell_type": "markdown",
   "metadata": {},
   "source": [
    "Looks like this did pretty well in some areas, and not as well in others, but overall good. Now that we have our first model running, and it produces a report for us, what exactly do those report columns actually mean?\n",
    "\n",
    "#### Precision: \n",
    "- What percent of your predictions were correct?\n",
    "- The ratio of true positives to the sum of true and false positives.\n",
    "\n",
    "#### Recall:\n",
    "- What percentage of the positive cases did you catch?\n",
    "- The ratio of true positives to the sum of true positives and false negatives.\n",
    "\n",
    "#### F1 score:\n",
    "- What percent of positive predictions were correct?\n",
    "- This is a weighted mean of precision and recall."
   ]
  },
  {
   "cell_type": "markdown",
   "metadata": {},
   "source": [
    "Following this, let's try out a few phrases that I made up just to see how it performs manually."
   ]
  },
  {
   "cell_type": "code",
   "execution_count": 29,
   "metadata": {},
   "outputs": [
    {
     "name": "stdout",
     "output_type": "stream",
     "text": [
      "This review was predicted to be ['Negative']: did not like this would not recommend\n",
      "This review was predicted to be ['Positive']: delightful food choice it was great\n",
      "This review was predicted to be ['Positive']: this was not great\n",
      "This review was predicted to be ['Negative']: worst meal I ever had\n",
      "This review was predicted to be ['Positive']: would recommend to everyone\n"
     ]
    }
   ],
   "source": [
    "# Let's create a list of test phrases that I think are obviously positive or negative\n",
    "rev_list = ['did not like this would not recommend', 'delightful food choice it was great', 'this was not great', \n",
    "           'worst meal I ever had', 'would recommend to everyone']\n",
    "\n",
    "# Now print them out along with their predicted sentiment\n",
    "for revw in rev_list:\n",
    "    print(\"This review was predicted to be {}: {}\".format(nb_model.predict([revw]), revw))"
   ]
  },
  {
   "cell_type": "markdown",
   "metadata": {},
   "source": [
    "Looks like we were able to use this model to correctly categorize almost all of my made up reviews, except for the third one. I also tried increasing the ngram_range to (1, 3) for this model to see if that could help, but it actually made the model worse. Let's try another model and see if we can get some improvements. "
   ]
  },
  {
   "cell_type": "markdown",
   "metadata": {},
   "source": [
    "### Support Vector Classification"
   ]
  },
  {
   "cell_type": "markdown",
   "metadata": {},
   "source": [
    "Here we'll repeat the same sort of process as we did for Naive Bayes, but this time using SVC."
   ]
  },
  {
   "cell_type": "code",
   "execution_count": 30,
   "metadata": {},
   "outputs": [],
   "source": [
    "# Make a copy of the dataframe just for this testing so we can be sure its not affecting others\n",
    "svc_df = procs_df.copy()\n",
    "\n",
    "# Label our features and target\n",
    "X = svc_df['cleaned']\n",
    "Y = svc_df['Sentiment']"
   ]
  },
  {
   "cell_type": "code",
   "execution_count": 31,
   "metadata": {},
   "outputs": [],
   "source": [
    "# Specify the distribution of parameters that we want to test\n",
    "svc_prm_dist = dict(\n",
    "    chi__k = [i for i in np.arange(100, 2_600, 100)],\n",
    "    clf__loss = ['hinge', 'squared_hinge'],\n",
    "    clf__C = [i for i in np.arange(0.1,1.1,0.1)],\n",
    "    clf__fit_intercept = [True, False],\n",
    "    clf__max_iter = [i for i in np.arange(4_000, 6_100, 100)]\n",
    "    )"
   ]
  },
  {
   "cell_type": "code",
   "execution_count": 32,
   "metadata": {},
   "outputs": [],
   "source": [
    "# Create a base pipeline that will take us through the modeling process\n",
    "svc_base_pipeline = Pipeline([\n",
    "    # Use TfidfVectorizer and ngram_range = (1,2) to choose 1 and/or 2 words at a time\n",
    "    ('vect', TfidfVectorizer(ngram_range=(1, 2), stop_words='english', sublinear_tf=True)),\n",
    "    \n",
    "    # Select the best features to train from using the chi squared algorithm\n",
    "    ('chi', SelectKBest(chi2)),\n",
    "    \n",
    "    # Choose our classifier algorithm\n",
    "    ('clf', LinearSVC(penalty = 'l2')) #'l2' is the standard in SVC\n",
    "])"
   ]
  },
  {
   "cell_type": "code",
   "execution_count": 33,
   "metadata": {
    "scrolled": true
   },
   "outputs": [
    {
     "data": {
      "text/plain": [
       "RandomizedSearchCV(cv=10, error_score='raise-deprecating',\n",
       "                   estimator=Pipeline(memory=None,\n",
       "                                      steps=[('vect',\n",
       "                                              TfidfVectorizer(analyzer='word',\n",
       "                                                              binary=False,\n",
       "                                                              decode_error='strict',\n",
       "                                                              dtype=<class 'numpy.float64'>,\n",
       "                                                              encoding='utf-8',\n",
       "                                                              input='content',\n",
       "                                                              lowercase=True,\n",
       "                                                              max_df=1.0,\n",
       "                                                              max_features=None,\n",
       "                                                              min_df=1,\n",
       "                                                              ngram_range=(1,\n",
       "                                                                           2),\n",
       "                                                              norm='l2',\n",
       "                                                              preprocessor=None,\n",
       "                                                              smooth_idf=True,\n",
       "                                                              sto...\n",
       "                                                   0.30000000000000004, 0.4,\n",
       "                                                   0.5, 0.6, 0.7000000000000001,\n",
       "                                                   0.8, 0.9, 1.0],\n",
       "                                        'clf__fit_intercept': [True, False],\n",
       "                                        'clf__loss': ['hinge', 'squared_hinge'],\n",
       "                                        'clf__max_iter': [4000, 4100, 4200,\n",
       "                                                          4300, 4400, 4500,\n",
       "                                                          4600, 4700, 4800,\n",
       "                                                          4900, 5000, 5100,\n",
       "                                                          5200, 5300, 5400,\n",
       "                                                          5500, 5600, 5700,\n",
       "                                                          5800, 5900, 6000]},\n",
       "                   pre_dispatch='2*n_jobs', random_state=None, refit=True,\n",
       "                   return_train_score=False, scoring=None, verbose=0)"
      ]
     },
     "execution_count": 33,
     "metadata": {},
     "output_type": "execute_result"
    }
   ],
   "source": [
    "# Start a timer for the SVC's CV search\n",
    "svccv_start_time = time.time()\n",
    "\n",
    "# Set up the random search with our parameter distribution\n",
    "svc_rand_search = RandomizedSearchCV(svc_base_pipeline, svc_prm_dist, n_iter=20, cv=10)\n",
    "\n",
    "# Fit the random search to our data\n",
    "svc_rand_search.fit(X, Y)"
   ]
  },
  {
   "cell_type": "code",
   "execution_count": 34,
   "metadata": {
    "scrolled": false
   },
   "outputs": [
    {
     "name": "stdout",
     "output_type": "stream",
     "text": [
      "{'clf__max_iter': 5000, 'clf__loss': 'squared_hinge', 'clf__fit_intercept': False, 'clf__C': 1.0, 'chi__k': 2500}\n",
      "The SVC's CV search took 3214.8602471351624 seconds\n"
     ]
    }
   ],
   "source": [
    "print(svc_rand_search.best_params_)\n",
    "print(\"The SVC's CV search took \" + str(time.time() - svccv_start_time) + \" seconds\")"
   ]
  },
  {
   "cell_type": "markdown",
   "metadata": {},
   "source": [
    "Again, now that we've found our best parameters, we can plug these into an updated pipeline and see how this approach performs."
   ]
  },
  {
   "cell_type": "code",
   "execution_count": 35,
   "metadata": {},
   "outputs": [],
   "source": [
    "# Assign our best parameters to variables to use in an updated pipeline\n",
    "svc_k = svc_rand_search.best_params_['chi__k']\n",
    "svc_loss = svc_rand_search.best_params_['clf__loss']\n",
    "svc_C = svc_rand_search.best_params_['clf__C']\n",
    "svc_fit_intercept = svc_rand_search.best_params_['clf__fit_intercept']\n",
    "svc_max_iter = svc_rand_search.best_params_['clf__max_iter']"
   ]
  },
  {
   "cell_type": "code",
   "execution_count": 36,
   "metadata": {},
   "outputs": [],
   "source": [
    "# Split up our training and testing data, 20/80\n",
    "X_train, X_test, y_train, y_test = train_test_split(svc_df['cleaned'], svc_df.Sentiment, test_size=0.2)\n",
    "\n",
    "# Create a pipeline that will take us through the modeling process\n",
    "svc_pipeline = Pipeline([\n",
    "    # Use TfidfVectorizer and ngram_range = (1,2) to choose 1 and/or 2 words at a time\n",
    "    ('vect', TfidfVectorizer(ngram_range=(1, 2), stop_words='english', sublinear_tf=True)),\n",
    "    \n",
    "    # Select the best features to train from using the chi squared algorithm\n",
    "    ('chi', SelectKBest(chi2, k = svc_k)),\n",
    "    \n",
    "    # Choose our classifier algorithm\n",
    "    ('clf', LinearSVC(\n",
    "                    C = svc_C, \n",
    "                    penalty = 'l2', #'l2' is the standard in SVC \n",
    "                    max_iter = svc_max_iter,\n",
    "                    fit_intercept = svc_fit_intercept,\n",
    "                    loss = svc_loss\n",
    "                    ))\n",
    "])"
   ]
  },
  {
   "cell_type": "code",
   "execution_count": 37,
   "metadata": {},
   "outputs": [],
   "source": [
    "# Start a timer for the SVC model\n",
    "svc_start_time = time.time()\n",
    "\n",
    "# Now we can fit our model to use for predictions\n",
    "svc_model = svc_pipeline.fit(X_train, y_train)"
   ]
  },
  {
   "cell_type": "code",
   "execution_count": 38,
   "metadata": {},
   "outputs": [
    {
     "name": "stdout",
     "output_type": "stream",
     "text": [
      "The Support Vector Classification model's accuracy on the test set is: 0.8639772727272728\n",
      "The Support Vector Classification model took 15.400356531143188 seconds\n"
     ]
    }
   ],
   "source": [
    "# See how our model performs\n",
    "print(\"The Support Vector Classification model's accuracy on the test set is: \" + str(svc_model.score(X_test, y_test)))\n",
    "print(\"The Support Vector Classification model took \" + str(time.time() - svc_start_time) + \" seconds\")"
   ]
  },
  {
   "cell_type": "code",
   "execution_count": 39,
   "metadata": {},
   "outputs": [
    {
     "name": "stdout",
     "output_type": "stream",
     "text": [
      "              precision    recall  f1-score   support\n",
      "\n",
      "    Negative       0.87      0.87      0.87     44000\n",
      "    Positive       0.87      0.87      0.87     44000\n",
      "\n",
      "    accuracy                           0.87     88000\n",
      "   macro avg       0.87      0.87      0.87     88000\n",
      "weighted avg       0.87      0.87      0.87     88000\n",
      "\n"
     ]
    }
   ],
   "source": [
    "y_svc_true = svc_df['Sentiment']\n",
    "y_svc_pred = svc_model.predict(svc_df['cleaned'])\n",
    "\n",
    "print(classification_report(y_svc_true, y_svc_pred))"
   ]
  },
  {
   "cell_type": "markdown",
   "metadata": {},
   "source": [
    "Good news, Support Vector Classification did significantly better than the Naive Bayes model. It got a solid 87% in all of the classification report's metrics, and an overall accuracy score of 86.4%. It also took just about as much time to run through both processes (the cross validation and the final modeling), so if I had to stop here, SVC would be a clear winner. Why don't we run my manual sentences through this model like we did for Naive Bayes and see how that goes."
   ]
  },
  {
   "cell_type": "code",
   "execution_count": 40,
   "metadata": {},
   "outputs": [
    {
     "name": "stdout",
     "output_type": "stream",
     "text": [
      "This review was predicted to be ['Negative']: did not like this would not recommend\n",
      "This review was predicted to be ['Positive']: delightful food choice it was great\n",
      "This review was predicted to be ['Positive']: this was not great\n",
      "This review was predicted to be ['Negative']: worst meal I ever had\n",
      "This review was predicted to be ['Positive']: would recommend to everyone\n"
     ]
    }
   ],
   "source": [
    "# Print out the predictions by this model from our previous review list\n",
    "for revw in rev_list:\n",
    "    print(\"This review was predicted to be {}: {}\".format(svc_model.predict([revw]), revw))"
   ]
  },
  {
   "cell_type": "markdown",
   "metadata": {},
   "source": [
    "Well unfortunately it didn't catch that third sentence again, but it did still get everything else correct. Let's do one more model and see what new metrics and results we can get out of that one."
   ]
  },
  {
   "cell_type": "markdown",
   "metadata": {},
   "source": [
    "### Random Forest"
   ]
  },
  {
   "cell_type": "markdown",
   "metadata": {},
   "source": [
    "One more time, let's go through our cross validation and parameter plugging process, but this time using a Random Forest."
   ]
  },
  {
   "cell_type": "code",
   "execution_count": 41,
   "metadata": {},
   "outputs": [],
   "source": [
    "# Make a copy of the dataframe just for this testing so we can be sure its not affecting others\n",
    "rafo_df = procs_df.copy()\n",
    "\n",
    "# Label our features and target\n",
    "X = rafo_df['cleaned']\n",
    "Y = rafo_df['Sentiment']"
   ]
  },
  {
   "cell_type": "code",
   "execution_count": 42,
   "metadata": {},
   "outputs": [],
   "source": [
    "# Specify the distribution of parameters that we want to test\n",
    "rafo_prm_dist = dict(\n",
    "    chi__k = [i for i in np.arange(1_000, 2_800, 100)],\n",
    "    clf__n_estimators = [i for i in np.arange(30, 60, 5)],\n",
    "    clf__criterion = ['gini', 'entropy'],\n",
    "    clf__max_depth = [i for i in np.arange(40, 90, 5)],\n",
    "    clf__max_features = ['auto', 'sqrt', 'log2']\n",
    "    )"
   ]
  },
  {
   "cell_type": "code",
   "execution_count": 43,
   "metadata": {},
   "outputs": [],
   "source": [
    "rafo_base_pipeline = Pipeline([\n",
    "    # Use TfidfVectorizer and ngram_range = (1,2) to choose 1 and/or 2 words at a time\n",
    "    ('vect', TfidfVectorizer(ngram_range=(1, 2), stop_words='english', sublinear_tf=True)),\n",
    "    \n",
    "    # Select the best features to train from using the chi squared algorithm\n",
    "    ('chi', SelectKBest(chi2)),\n",
    "    \n",
    "    # Choose our classifier algorithm\n",
    "    ('clf', ensemble.RandomForestClassifier())\n",
    "])"
   ]
  },
  {
   "cell_type": "code",
   "execution_count": 44,
   "metadata": {
    "scrolled": true
   },
   "outputs": [
    {
     "data": {
      "text/plain": [
       "RandomizedSearchCV(cv=10, error_score='raise-deprecating',\n",
       "                   estimator=Pipeline(memory=None,\n",
       "                                      steps=[('vect',\n",
       "                                              TfidfVectorizer(analyzer='word',\n",
       "                                                              binary=False,\n",
       "                                                              decode_error='strict',\n",
       "                                                              dtype=<class 'numpy.float64'>,\n",
       "                                                              encoding='utf-8',\n",
       "                                                              input='content',\n",
       "                                                              lowercase=True,\n",
       "                                                              max_df=1.0,\n",
       "                                                              max_features=None,\n",
       "                                                              min_df=1,\n",
       "                                                              ngram_range=(1,\n",
       "                                                                           2),\n",
       "                                                              norm='l2',\n",
       "                                                              preprocessor=None,\n",
       "                                                              smooth_idf=True,\n",
       "                                                              sto...\n",
       "                   param_distributions={'chi__k': [1000, 1100, 1200, 1300, 1400,\n",
       "                                                   1500, 1600, 1700, 1800, 1900,\n",
       "                                                   2000, 2100, 2200, 2300, 2400,\n",
       "                                                   2500, 2600, 2700],\n",
       "                                        'clf__criterion': ['gini', 'entropy'],\n",
       "                                        'clf__max_depth': [40, 45, 50, 55, 60,\n",
       "                                                           65, 70, 75, 80, 85],\n",
       "                                        'clf__max_features': ['auto', 'sqrt',\n",
       "                                                              'log2'],\n",
       "                                        'clf__n_estimators': [30, 35, 40, 45,\n",
       "                                                              50, 55]},\n",
       "                   pre_dispatch='2*n_jobs', random_state=None, refit=True,\n",
       "                   return_train_score=False, scoring=None, verbose=0)"
      ]
     },
     "execution_count": 44,
     "metadata": {},
     "output_type": "execute_result"
    }
   ],
   "source": [
    "# Start a timer for the random forest's CV search\n",
    "rfcv_start_time = time.time()\n",
    "\n",
    "# Set up the random search with our parameter distribution\n",
    "rafo_rand_search = RandomizedSearchCV(rafo_base_pipeline, rafo_prm_dist, n_iter=10, cv=10)\n",
    "\n",
    "# Fit the random search to our data\n",
    "rafo_rand_search.fit(X, Y)"
   ]
  },
  {
   "cell_type": "code",
   "execution_count": 45,
   "metadata": {},
   "outputs": [
    {
     "name": "stdout",
     "output_type": "stream",
     "text": [
      "{'clf__n_estimators': 45, 'clf__max_features': 'log2', 'clf__max_depth': 75, 'clf__criterion': 'entropy', 'chi__k': 1100}\n",
      "The Random Forest's CV search took 4258.7080228328705 seconds\n"
     ]
    }
   ],
   "source": [
    "print(rafo_rand_search.best_params_)\n",
    "print(\"The Random Forest's CV search took \" + str(time.time() - rfcv_start_time) + \" seconds\")"
   ]
  },
  {
   "cell_type": "markdown",
   "metadata": {},
   "source": [
    "Alright, we got some good parameters here, but you'll notice right off the bat it also took a MUCH longer time to get them. This is probably a CV search one would want to run over night, or at least while you get some dinner. Anyways, let's plug these parameters in and see how it performs."
   ]
  },
  {
   "cell_type": "code",
   "execution_count": 46,
   "metadata": {},
   "outputs": [],
   "source": [
    "# Assign our best parameteres to variables to use in an updated pipeline\n",
    "rafo_k = rafo_rand_search.best_params_['chi__k']\n",
    "rafo_n_estimators = rafo_rand_search.best_params_['clf__n_estimators']\n",
    "rafo_criterion = rafo_rand_search.best_params_['clf__criterion']\n",
    "rafo_max_depth = rafo_rand_search.best_params_['clf__max_depth']\n",
    "rafo_max_features = rafo_rand_search.best_params_['clf__max_features']"
   ]
  },
  {
   "cell_type": "code",
   "execution_count": 47,
   "metadata": {},
   "outputs": [],
   "source": [
    "# Split up our training and testing data, 20/80\n",
    "X_train, X_test, y_train, y_test = train_test_split(rafo_df['cleaned'], rafo_df.Sentiment, test_size=0.2)\n",
    "\n",
    "# Create a pipeline that will take us through the modeling process\n",
    "rafo_pipeline = Pipeline([\n",
    "    # Use TfidfVectorizer and ngram_range = (1,2) to choose 1 and/or 2 words at a time\n",
    "    ('vect', TfidfVectorizer(ngram_range=(1, 2), stop_words='english', sublinear_tf=True)),\n",
    "    \n",
    "    # Select the best features to train from using the chi squared algorithm\n",
    "    ('chi', SelectKBest(chi2, k = rafo_k)),\n",
    "    \n",
    "    # Choose our classifier algorithm\n",
    "    ('clf', ensemble.RandomForestClassifier(\n",
    "                                            n_estimators = rafo_n_estimators, \n",
    "                                            criterion = rafo_criterion,\n",
    "                                            max_depth = rafo_max_depth,\n",
    "                                            max_features = rafo_max_features\n",
    "                                            ))\n",
    "])"
   ]
  },
  {
   "cell_type": "code",
   "execution_count": 48,
   "metadata": {},
   "outputs": [],
   "source": [
    "# Start a timer for the random forest\n",
    "rf_start_time = time.time()\n",
    "\n",
    "# Now we can fit our model to use for predictions\n",
    "rafo_model = rafo_pipeline.fit(X_train, y_train)"
   ]
  },
  {
   "cell_type": "code",
   "execution_count": 49,
   "metadata": {},
   "outputs": [
    {
     "name": "stdout",
     "output_type": "stream",
     "text": [
      "The Random Forest Classification model's accuracy on the test set is: 0.8626136363636364\n",
      "The Random Forest took 29.64225697517395 seconds\n"
     ]
    }
   ],
   "source": [
    "# See how our model performs\n",
    "print(\"The Random Forest Classification model's accuracy on the test set is: \" + str(rafo_model.score(X_test, y_test)))\n",
    "print(\"The Random Forest took \" + str(time.time() - rf_start_time) + \" seconds\")"
   ]
  },
  {
   "cell_type": "code",
   "execution_count": 50,
   "metadata": {},
   "outputs": [
    {
     "name": "stdout",
     "output_type": "stream",
     "text": [
      "              precision    recall  f1-score   support\n",
      "\n",
      "    Negative       0.95      0.92      0.94     44000\n",
      "    Positive       0.93      0.95      0.94     44000\n",
      "\n",
      "    accuracy                           0.94     88000\n",
      "   macro avg       0.94      0.94      0.94     88000\n",
      "weighted avg       0.94      0.94      0.94     88000\n",
      "\n"
     ]
    }
   ],
   "source": [
    "y_rafo_true = rafo_df['Sentiment']\n",
    "y_rafo_pred = rafo_model.predict(rafo_df['cleaned'])\n",
    "\n",
    "print(classification_report(y_rafo_true, y_rafo_pred))"
   ]
  },
  {
   "cell_type": "markdown",
   "metadata": {},
   "source": [
    "Wow, the Random Forest seems to perform even better than the SVC model by a decent margin. The big downfall unfortunately being that it also takes much longer to run through. The final model took twice as long, and the cross validation search took about 33% longer. Let's see how it performs on my arbitrary manual sentences to be sure it's working as we think."
   ]
  },
  {
   "cell_type": "code",
   "execution_count": 51,
   "metadata": {},
   "outputs": [
    {
     "name": "stdout",
     "output_type": "stream",
     "text": [
      "This review was predicted to be ['Negative']: did not like this would not recommend\n",
      "This review was predicted to be ['Positive']: delightful food choice it was great\n",
      "This review was predicted to be ['Positive']: this was not great\n",
      "This review was predicted to be ['Negative']: worst meal I ever had\n",
      "This review was predicted to be ['Positive']: would recommend to everyone\n"
     ]
    }
   ],
   "source": [
    "# Print out the predictions by this model from our previous review list\n",
    "for revw in rev_list:\n",
    "    print(\"This review was predicted to be {}: {}\".format(rafo_model.predict([revw]), revw))"
   ]
  },
  {
   "cell_type": "markdown",
   "metadata": {},
   "source": [
    "Same results as before, which is somewhat discouraging on the surface, but I'll explain later why I think this may be occurring in my \"weak points of this model\" section. Otherwise it gets the job done."
   ]
  },
  {
   "cell_type": "markdown",
   "metadata": {},
   "source": [
    "### Word Clouds and Wrapping Up"
   ]
  },
  {
   "cell_type": "markdown",
   "metadata": {},
   "source": [
    "Now that we've found our best model, I will finally look into which words are our best predictors of a positive or negative review. For this I've decided to look at the first 20 for each category and then place them into a word cloud. First however, I'll have to rerun some bits of earlier code so that we can pull out our best features."
   ]
  },
  {
   "cell_type": "code",
   "execution_count": 113,
   "metadata": {
    "scrolled": false
   },
   "outputs": [],
   "source": [
    "# Perform each step of our pipeline, but save them to variables so we can use these to create and sort our list\n",
    "tfvectorizer = rafo_model.named_steps['vect']\n",
    "chi_test = rafo_model.named_steps['chi']\n",
    "classifier = rafo_model.named_steps['clf']\n",
    "\n",
    "# Get each word/feature\n",
    "feature_list = tfvectorizer.get_feature_names()\n",
    "\n",
    "# Use chi squared test to test each feature\n",
    "feature_list = [feature_list[i] for i in chi_test.get_support(indices=True)]\n",
    "\n",
    "# Set the features up as an array so we can sort them\n",
    "feature_list = np.asarray(feature_list)\n",
    "\n",
    "# Sort the features by how important they are\n",
    "sort_coeffs = np.argsort(classifier.feature_importances_)\n",
    "\n",
    "\n",
    "# Now make an array based on the sorted coefficients\n",
    "sort_feats = feature_list[sort_coeffs]\n",
    "\n",
    "# Flip the array around since they're currently from least to most important\n",
    "sort_feats = sort_feats[::-1]\n",
    "\n",
    "# Iterate through the list and place positive/negative words in appropriate lists\n",
    "posi = 0\n",
    "negi = 0\n",
    "pos_list = []\n",
    "neg_list = []\n",
    "\n",
    "\n",
    "for word in sort_feats:\n",
    "    if posi < 20:\n",
    "        if rafo_model.predict([word]) == ['Positive']:\n",
    "            pos_list.append(word)\n",
    "            posi += 1\n",
    "    if negi < 20:\n",
    "        if rafo_model.predict([word]) == ['Negative']:\n",
    "            neg_list.append(word)\n",
    "            negi += 1"
   ]
  },
  {
   "cell_type": "markdown",
   "metadata": {},
   "source": [
    "The code above created two lists of 20, one of our best features for Positive reviews, and the other with our best features for Negative reviews. Instead of printing them out into a boring list and reading them, let's look at some word clouds."
   ]
  },
  {
   "cell_type": "code",
   "execution_count": 114,
   "metadata": {
    "scrolled": false
   },
   "outputs": [
    {
     "data": {
      "image/png": "[encoded data removed]",
      "text/plain": [
       "<Figure size 1080x576 with 1 Axes>"
      ]
     },
     "metadata": {
      "needs_background": "light"
     },
     "output_type": "display_data"
    }
   ],
   "source": [
    "# Join our list into one using spaces\n",
    "pos_cloud_string = (\" \").join(pos_list)\n",
    "\n",
    "# Create our wordcloud using the joined string as input\n",
    "pos_wordcloud = WordCloud(width = 1000, height = 500, colormap='autumn', background_color='White').generate(pos_cloud_string)\n",
    "\n",
    "# Choose the plot's size, pass it our the wordcloud, turn off the axis numbers, and show it\n",
    "plt.figure(figsize=(15,8))\n",
    "plt.imshow(pos_wordcloud)\n",
    "plt.axis(\"off\")\n",
    "plt.title('Top 20 Words in a Positive Review', fontsize=30)\n",
    "plt.show()"
   ]
  },
  {
   "cell_type": "code",
   "execution_count": 128,
   "metadata": {},
   "outputs": [
    {
     "data": {
      "image/png": "[encoded data removed]",
      "text/plain": [
       "<Figure size 1080x576 with 1 Axes>"
      ]
     },
     "metadata": {
      "needs_background": "light"
     },
     "output_type": "display_data"
    }
   ],
   "source": [
    "# Join our list into one using spaces\n",
    "neg_cloud_string = (\" \").join(neg_list)\n",
    "\n",
    "# Create our wordcloud using the joined string as input\n",
    "neg_wordcloud = WordCloud(width = 1000, height = 500, colormap='autumn', background_color='White').generate(neg_cloud_string)\n",
    "\n",
    "# Choose the plot's size, pass it our the wordcloud, turn off the axis numbers, and show it\n",
    "plt.figure(figsize=(15,8))\n",
    "plt.imshow(neg_wordcloud)\n",
    "plt.axis(\"off\")\n",
    "plt.title('Top 20 Words in a Negative Review', fontsize=30)\n",
    "plt.show()"
   ]
  },
  {
   "cell_type": "markdown",
   "metadata": {},
   "source": [
    "Intriguing results. But why would anybody want to run a model like this?\n",
    "\n",
    "Practical uses of my model for an audience of interest:\n",
    "1. Monitoring social media posts to see what people are saying about your brand as a whole.\n",
    "2. Finding reviews in an automated way so that the company can address them more quickly.\n",
    "3. See how specific products are doing and provide an automated way to find feedback management can use for decision making.\n",
    "4. Provide data for market research."
   ]
  },
  {
   "cell_type": "markdown",
   "metadata": {},
   "source": [
    "Weak points or shortcomings of my model:\n",
    "1. It was unable to pick up on my manually created review of \"this was not great\" that I thought as a human sounds negative. This may be due to the fact that \"not great\" seems to straddle the line between positive and negative, while \"great\" on its own indicates a highly positive review. For example, \"not great\" sometimes shows up in 4 star reviews as a reason why this person didn't reach for the full 5 stars. Ex: \"I really enjoyed this product but the packaging was not great, so I deducted a star for that\".\n",
    "2. I didn't account for acronyms. For example, some people used \"br\" as a negative and others as a positive. Some of the reviews that I found this acronym in, it was saying they were leaving a \"bad review\", while others happily signed off with it, like saying \"best regards\".\n",
    "3. Since I used a randomized search for cross validation, results were varied whenever I reran all of the models for any reason. Generally the order of best to worst model was the same though. I chose this method because it was much faster than doing a full grid search and allowed me to complete this capstone in the time permitted."
   ]
  },
  {
   "attachments": {},
   "cell_type": "markdown",
   "metadata": {},
   "source": [
    "In conclusion, my Random Forest model was able to achieve a F-measure score of 94%, so we know that it is trustworthy. This model, or one like it, could be used to create business value in the following ways:\n",
    "\n",
    "1. The output “Top Words” from could be used to find negative and positive reviews in an automated way.\n",
    "\n",
    "2. These reviews could then be presented as market research for upper management to aid in proper decision making or shifts in tactics.\n",
    "\n",
    "3. Negative reviews found could be sent to marketing teams to complete outreach tasks, such as offering replacements, refunds, and/or apologies on behalf of the company.\n",
    "\n",
    "4. Positive reviews could be used to determine direction of certain products, or the brand as a whole"
   ]
  }
 ],
 "metadata": {
  "kernelspec": {
   "display_name": "Python 3",
   "language": "python",
   "name": "python3"
  },
  "language_info": {
   "codemirror_mode": {
    "name": "ipython",
    "version": 3
   },
   "file_extension": ".py",
   "mimetype": "text/x-python",
   "name": "python",
   "nbconvert_exporter": "python",
   "pygments_lexer": "ipython3",
   "version": "3.6.2"
  }
 },
 "nbformat": 4,
 "nbformat_minor": 2
}
